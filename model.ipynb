{
 "cells": [
  {
   "cell_type": "code",
   "execution_count": 1,
   "metadata": {},
   "outputs": [
    {
     "name": "stderr",
     "output_type": "stream",
     "text": [
      "/home/morris/.local/lib/python3.10/site-packages/torch/cuda/__init__.py:141: UserWarning: CUDA initialization: CUDA unknown error - this may be due to an incorrectly set up environment, e.g. changing env variable CUDA_VISIBLE_DEVICES after program start. Setting the available devices to be zero. (Triggered internally at ../c10/cuda/CUDAFunctions.cpp:108.)\n",
      "  return torch._C._cuda_getDeviceCount() > 0\n"
     ]
    }
   ],
   "source": [
    "import os\n",
    "import torch\n",
    "import torch.nn as nn\n",
    "from torch.utils.data import Dataset\n",
    "import torch.nn.functional as F\n",
    "import json\n",
    "\n",
    "device = torch.device(\"cuda\" if torch.cuda.is_available() else \"cpu\")"
   ]
  },
  {
   "cell_type": "code",
   "execution_count": 2,
   "metadata": {},
   "outputs": [],
   "source": [
    "DATA_PATH = \"../data/fouriers/\""
   ]
  },
  {
   "cell_type": "code",
   "execution_count": 3,
   "metadata": {},
   "outputs": [],
   "source": [
    "# frequency range to fit model on\n",
    "MIN_FREQ, MAX_FREQ = 2000, 4000\n",
    "SAMPLE_RATE = 48000\n",
    "NYQUIST = SAMPLE_RATE / 2 + 1\n",
    "\n",
    "class AudioDataset(Dataset):\n",
    "    def __init__(self, min_freq, max_freq):\n",
    "        assert min_freq < max_freq, \"Common man..\"\n",
    "\n",
    "        self.files = os.listdir(DATA_PATH)\n",
    "\n",
    "        sample_fourier = json.load(open(DATA_PATH + self.files[0], \"r\")) \n",
    "        n_freqs = len(sample_fourier[\"powers\"])\n",
    "        # indices that correspond to MIN_FREQ and MAX_FREQ\n",
    "        self.min_i = int(min_freq * n_freqs / NYQUIST)\n",
    "        self.max_i = int(max_freq * n_freqs / NYQUIST)\n",
    "        # number of frequencies per sample\n",
    "        self.n_freqs = self.max_i - self.min_i + 1\n",
    "\n",
    "        self.data = []        \n",
    "        self.load_data()\n",
    "\n",
    "    def load_data(self):  \n",
    "        \n",
    "         \n",
    "        for file in self.files:\n",
    "            fourier = json.load(open(DATA_PATH + file, \"r\")) \n",
    "            self.data.append((torch.tensor(fourier[\"powers\"][self.min_i:self.max_i+1]), fourier[\"label\"]))\n",
    "\n",
    "    def __len__(self):\n",
    "        return len(self.data)\n",
    "\n",
    "    def __getitem__(self, idx):\n",
    "        return self.data[idx]\n",
    "\n",
    "dataset = AudioDataset(MIN_FREQ, MAX_FREQ)"
   ]
  },
  {
   "cell_type": "code",
   "execution_count": 4,
   "metadata": {},
   "outputs": [],
   "source": [
    "class TwoLayerIntegrated(nn.Module):\n",
    "    def __init__(self, input_dim):\n",
    "        super(TwoLayerIntegrated, self).__init__()\n",
    "        \n",
    "        self.layer1 = nn.Linear(input_dim, 128)\n",
    "        self.layer2 = nn.Linear(128, 1)\n",
    "    \n",
    "    def forward(self, x):\n",
    "        x = F.relu(self.layer1(x))\n",
    "        x = F.sigmoid(self.layer2(x))\n",
    "        \n",
    "        return x"
   ]
  },
  {
   "cell_type": "code",
   "execution_count": 5,
   "metadata": {},
   "outputs": [
    {
     "name": "stderr",
     "output_type": "stream",
     "text": [
      "  6%|▋         | 13/200 [00:00<00:12, 15.09it/s]"
     ]
    },
    {
     "name": "stdout",
     "output_type": "stream",
     "text": [
      "Epoch [10/200] - Train Loss: 0.1685, Train Acc: 0.9667, Val Loss: 0.1777, Val Acc: 0.9740\n"
     ]
    },
    {
     "name": "stderr",
     "output_type": "stream",
     "text": [
      " 10%|█         | 21/200 [00:01<00:13, 13.62it/s]"
     ]
    },
    {
     "name": "stdout",
     "output_type": "stream",
     "text": [
      "Epoch [20/200] - Train Loss: 0.0993, Train Acc: 0.9724, Val Loss: 0.1228, Val Acc: 0.9761\n"
     ]
    },
    {
     "name": "stderr",
     "output_type": "stream",
     "text": [
      " 16%|█▌        | 31/200 [00:02<00:11, 15.09it/s]"
     ]
    },
    {
     "name": "stdout",
     "output_type": "stream",
     "text": [
      "Epoch [30/200] - Train Loss: 0.0922, Train Acc: 0.9756, Val Loss: 0.1072, Val Acc: 0.9768\n"
     ]
    },
    {
     "name": "stderr",
     "output_type": "stream",
     "text": [
      " 22%|██▏       | 43/200 [00:03<00:10, 15.56it/s]"
     ]
    },
    {
     "name": "stdout",
     "output_type": "stream",
     "text": [
      "Epoch [40/200] - Train Loss: 0.0736, Train Acc: 0.9776, Val Loss: 0.0999, Val Acc: 0.9785\n"
     ]
    },
    {
     "name": "stderr",
     "output_type": "stream",
     "text": [
      " 26%|██▌       | 51/200 [00:03<00:09, 15.26it/s]"
     ]
    },
    {
     "name": "stdout",
     "output_type": "stream",
     "text": [
      "Epoch [50/200] - Train Loss: 0.0706, Train Acc: 0.9782, Val Loss: 0.1387, Val Acc: 0.9775\n"
     ]
    },
    {
     "name": "stderr",
     "output_type": "stream",
     "text": [
      " 30%|███       | 61/200 [00:04<00:09, 14.96it/s]"
     ]
    },
    {
     "name": "stdout",
     "output_type": "stream",
     "text": [
      "Epoch [60/200] - Train Loss: 0.0633, Train Acc: 0.9808, Val Loss: 0.0910, Val Acc: 0.9785\n"
     ]
    },
    {
     "name": "stderr",
     "output_type": "stream",
     "text": [
      " 36%|███▋      | 73/200 [00:05<00:08, 14.28it/s]"
     ]
    },
    {
     "name": "stdout",
     "output_type": "stream",
     "text": [
      "Epoch [70/200] - Train Loss: 0.0606, Train Acc: 0.9810, Val Loss: 0.0943, Val Acc: 0.9796\n"
     ]
    },
    {
     "name": "stderr",
     "output_type": "stream",
     "text": [
      " 42%|████▏     | 83/200 [00:05<00:07, 14.93it/s]"
     ]
    },
    {
     "name": "stdout",
     "output_type": "stream",
     "text": [
      "Epoch [80/200] - Train Loss: 0.0561, Train Acc: 0.9827, Val Loss: 0.0877, Val Acc: 0.9799\n"
     ]
    },
    {
     "name": "stderr",
     "output_type": "stream",
     "text": [
      " 46%|████▋     | 93/200 [00:06<00:06, 15.43it/s]"
     ]
    },
    {
     "name": "stdout",
     "output_type": "stream",
     "text": [
      "Epoch [90/200] - Train Loss: 0.0553, Train Acc: 0.9834, Val Loss: 0.0857, Val Acc: 0.9806\n"
     ]
    },
    {
     "name": "stderr",
     "output_type": "stream",
     "text": [
      " 52%|█████▏    | 103/200 [00:07<00:06, 15.65it/s]"
     ]
    },
    {
     "name": "stdout",
     "output_type": "stream",
     "text": [
      "Epoch [100/200] - Train Loss: 0.0509, Train Acc: 0.9849, Val Loss: 0.0843, Val Acc: 0.9789\n"
     ]
    },
    {
     "name": "stderr",
     "output_type": "stream",
     "text": [
      " 56%|█████▋    | 113/200 [00:07<00:05, 16.00it/s]"
     ]
    },
    {
     "name": "stdout",
     "output_type": "stream",
     "text": [
      "Epoch [110/200] - Train Loss: 0.0664, Train Acc: 0.9846, Val Loss: 0.0998, Val Acc: 0.9778\n"
     ]
    },
    {
     "name": "stderr",
     "output_type": "stream",
     "text": [
      " 62%|██████▏   | 123/200 [00:08<00:04, 15.58it/s]"
     ]
    },
    {
     "name": "stdout",
     "output_type": "stream",
     "text": [
      "Epoch [120/200] - Train Loss: 0.0727, Train Acc: 0.9856, Val Loss: 0.0980, Val Acc: 0.9782\n"
     ]
    },
    {
     "name": "stderr",
     "output_type": "stream",
     "text": [
      " 66%|██████▋   | 133/200 [00:09<00:04, 15.44it/s]"
     ]
    },
    {
     "name": "stdout",
     "output_type": "stream",
     "text": [
      "Epoch [130/200] - Train Loss: 0.1112, Train Acc: 0.9818, Val Loss: 0.1104, Val Acc: 0.9802\n"
     ]
    },
    {
     "name": "stderr",
     "output_type": "stream",
     "text": [
      " 70%|███████   | 141/200 [00:09<00:03, 14.97it/s]"
     ]
    },
    {
     "name": "stdout",
     "output_type": "stream",
     "text": [
      "Epoch [140/200] - Train Loss: 0.0592, Train Acc: 0.9869, Val Loss: 0.0915, Val Acc: 0.9802\n"
     ]
    },
    {
     "name": "stderr",
     "output_type": "stream",
     "text": [
      " 76%|███████▋  | 153/200 [00:10<00:03, 15.59it/s]"
     ]
    },
    {
     "name": "stdout",
     "output_type": "stream",
     "text": [
      "Epoch [150/200] - Train Loss: 0.0585, Train Acc: 0.9872, Val Loss: 0.0925, Val Acc: 0.9816\n"
     ]
    },
    {
     "name": "stderr",
     "output_type": "stream",
     "text": [
      " 80%|████████  | 161/200 [00:10<00:02, 14.98it/s]"
     ]
    },
    {
     "name": "stdout",
     "output_type": "stream",
     "text": [
      "Epoch [160/200] - Train Loss: 0.0593, Train Acc: 0.9867, Val Loss: 0.0599, Val Acc: 0.9820\n"
     ]
    },
    {
     "name": "stderr",
     "output_type": "stream",
     "text": [
      " 86%|████████▌ | 171/200 [00:11<00:01, 14.58it/s]"
     ]
    },
    {
     "name": "stdout",
     "output_type": "stream",
     "text": [
      "Epoch [170/200] - Train Loss: 0.0403, Train Acc: 0.9880, Val Loss: 0.0500, Val Acc: 0.9827\n"
     ]
    },
    {
     "name": "stderr",
     "output_type": "stream",
     "text": [
      " 92%|█████████▏| 183/200 [00:12<00:01, 14.97it/s]"
     ]
    },
    {
     "name": "stdout",
     "output_type": "stream",
     "text": [
      "Epoch [180/200] - Train Loss: 0.0425, Train Acc: 0.9871, Val Loss: 0.0440, Val Acc: 0.9844\n"
     ]
    },
    {
     "name": "stderr",
     "output_type": "stream",
     "text": [
      " 96%|█████████▋| 193/200 [00:13<00:00, 15.47it/s]"
     ]
    },
    {
     "name": "stdout",
     "output_type": "stream",
     "text": [
      "Epoch [190/200] - Train Loss: 0.0566, Train Acc: 0.9875, Val Loss: 0.1243, Val Acc: 0.9816\n"
     ]
    },
    {
     "name": "stderr",
     "output_type": "stream",
     "text": [
      "100%|██████████| 200/200 [00:13<00:00, 14.68it/s]\n"
     ]
    },
    {
     "name": "stdout",
     "output_type": "stream",
     "text": [
      "Epoch [200/200] - Train Loss: 0.0567, Train Acc: 0.9893, Val Loss: 0.0947, Val Acc: 0.9830\n"
     ]
    }
   ],
   "source": [
    "import torch\n",
    "import torch.nn as nn\n",
    "from torch.utils.data import DataLoader, random_split\n",
    "from tqdm import tqdm\n",
    "\n",
    "# Set random seed for reproducibility\n",
    "torch.manual_seed(42)\n",
    "\n",
    "# Parameters\n",
    "batch_size = 256\n",
    "num_epochs = 200\n",
    "validation_split = 0.2\n",
    "\n",
    "# Create dataset and dataloader\n",
    "dataset_size = len(dataset)\n",
    "val_size = int(validation_split * dataset_size)\n",
    "train_size = dataset_size - val_size\n",
    "train_dataset, val_dataset = random_split(dataset, [train_size, val_size])\n",
    "\n",
    "train_dataloader = DataLoader(train_dataset, batch_size=batch_size, shuffle=True)\n",
    "val_dataloader = DataLoader(val_dataset, batch_size=batch_size, shuffle=False)\n",
    "\n",
    "model = TwoLayerIntegrated(dataset.n_freqs).to(device)\n",
    "\n",
    "# Define loss and optimizer\n",
    "criterion = nn.BCELoss()\n",
    "optimizer = torch.optim.Adam(model.parameters())\n",
    "\n",
    "# Lists to keep track of losses and accuracy for plotting\n",
    "train_losses = []\n",
    "val_losses = []\n",
    "train_accuracies = []\n",
    "val_accuracies = []\n",
    "\n",
    "def calculate_accuracy(predictions, targets):\n",
    "    rounded_preds = torch.round(predictions)\n",
    "    correct = (rounded_preds == targets).sum().item()\n",
    "    total = targets.size(0)\n",
    "    return correct / total\n",
    "\n",
    "for epoch in tqdm(range(num_epochs)):\n",
    "    # Training phase\n",
    "    model.train()\n",
    "    train_loss_sum = 0.0\n",
    "    correct_train = 0\n",
    "    total_train = 0\n",
    "    for batch_waveforms, batch_labels in train_dataloader:\n",
    "        batch_waveforms = batch_waveforms.to(device)\n",
    "        batch_labels = batch_labels.to(device)\n",
    "        optimizer.zero_grad()\n",
    "        batch_outputs = model(batch_waveforms)\n",
    "        loss = criterion(batch_outputs, batch_labels.unsqueeze(1).float())\n",
    "        loss.backward()\n",
    "        optimizer.step()\n",
    "        train_loss_sum += loss.item()\n",
    "\n",
    "        batch_predictions = torch.round(batch_outputs)\n",
    "        correct_train += (batch_predictions == batch_labels.unsqueeze(1)).sum().item()\n",
    "        total_train += batch_labels.size(0)\n",
    "    \n",
    "    train_loss_avg = train_loss_sum / len(train_dataloader)\n",
    "    train_acc = correct_train / total_train\n",
    "    train_losses.append(train_loss_avg)\n",
    "    train_accuracies.append(train_acc)\n",
    "\n",
    "    # Validation phase\n",
    "    model.eval()\n",
    "    val_loss_sum = 0.0\n",
    "    correct_val = 0\n",
    "    total_val = 0\n",
    "    with torch.no_grad():\n",
    "        for batch_waveforms, batch_labels in val_dataloader:\n",
    "            batch_waveforms = batch_waveforms.to(device)\n",
    "            batch_labels = batch_labels.to(device)\n",
    "            batch_outputs = model(batch_waveforms)\n",
    "            loss = criterion(batch_outputs, batch_labels.unsqueeze(1).float())\n",
    "            val_loss_sum += loss.item()\n",
    "\n",
    "            batch_predictions = torch.round(batch_outputs)\n",
    "            correct_val += (batch_predictions == batch_labels.unsqueeze(1)).sum().item()\n",
    "            total_val += batch_labels.size(0)\n",
    "    \n",
    "    val_loss_avg = val_loss_sum / len(val_dataloader)\n",
    "    val_acc = correct_val / total_val\n",
    "    val_losses.append(val_loss_avg)\n",
    "    val_accuracies.append(val_acc)\n",
    "\n",
    "    if (epoch + 1) % 10 == 0:\n",
    "        print(f\"Epoch [{epoch+1}/{num_epochs}] - \"\n",
    "            f\"Train Loss: {train_loss_avg:.4f}, Train Acc: {train_acc:.4f}, \"\n",
    "            f\"Val Loss: {val_loss_avg:.4f}, Val Acc: {val_acc:.4f}\")\n",
    "\n",
    "# Save the trained model\n",
    "torch.save(model.state_dict(),  \"../models/whistle_detection.pth\")\n",
    "\n",
    "sample_input = torch.randn(1, dataset.n_freqs)\n",
    "torch.onnx.export(model, sample_input.to(device), \"../models/whistle_detection.onnx\") "
   ]
  },
  {
   "cell_type": "code",
   "execution_count": null,
   "metadata": {},
   "outputs": [],
   "source": []
  }
 ],
 "metadata": {
  "kernelspec": {
   "display_name": "Python 3",
   "language": "python",
   "name": "python3"
  },
  "language_info": {
   "codemirror_mode": {
    "name": "ipython",
    "version": 3
   },
   "file_extension": ".py",
   "mimetype": "text/x-python",
   "name": "python",
   "nbconvert_exporter": "python",
   "pygments_lexer": "ipython3",
   "version": "3.10.12"
  }
 },
 "nbformat": 4,
 "nbformat_minor": 2
}
