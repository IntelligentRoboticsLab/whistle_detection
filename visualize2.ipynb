{
 "cells": [
  {
   "cell_type": "code",
   "execution_count": 1,
   "metadata": {},
   "outputs": [],
   "source": [
    "import os, json\n",
    "from collections import defaultdict\n",
    "import numpy as np\n",
    "import matplotlib.pyplot as plt\n",
    "import torch, torch.nn as nn, torch.nn.functional as F"
   ]
  },
  {
   "cell_type": "code",
   "execution_count": 2,
   "metadata": {},
   "outputs": [],
   "source": [
    "DATA_PATH = \"../data/fouriers/\"\n",
    "\n",
    "files = os.listdir(DATA_PATH)\n",
    "\n",
    "fouriers = defaultdict(lambda: [])\n",
    "for file in files:\n",
    "    fourier = json.load(open(DATA_PATH + file, \"r\"))\n",
    "    fouriers[fourier[\"label\"]].append(fourier[\"powers\"])\n",
    "fouriers = { label: np.array(powers) for label, powers in fouriers.items() }"
   ]
  },
  {
   "cell_type": "code",
   "execution_count": 9,
   "metadata": {},
   "outputs": [],
   "source": [
    "\"\"\"\n",
    "Hulk whistle detection.\n",
    "\"\"\"\n",
    "\n",
    "SAMPLE_RATE = 48000\n",
    "NYQUIST = SAMPLE_RATE / 2 + 1\n",
    "\n",
    "n_freqs = fouriers[True][0].shape[0]\n",
    "\n",
    "MIN_FREQ, MAX_FREQ = 2000, 4000\n",
    "# corresponding spectrum indices\n",
    "min_i, max_i = int(MIN_FREQ * n_freqs / NYQUIST), int(MAX_FREQ * n_freqs / NYQUIST)\n",
    "\n",
    "# TODO: would without euclidean scaling work better?\n",
    "def detect(energy: np.ndarray) -> bool:\n",
    "    \"\"\"\n",
    "    Detects whistle.\n",
    "\n",
    "    It searches for a potential whistle brandwith from `start_i` to `end_i`,\n",
    "    and if it exists and the energy is high enough, as whistle is detected.\n",
    "    \"\"\"\n",
    "\n",
    "    mean = np.mean(energy)\n",
    "    threshold = mean * 2.\n",
    "\n",
    "    start_i, end_i = None, None\n",
    "    for i in range(min_i, max_i):\n",
    "        if energy[i] > threshold:\n",
    "            start_i = i\n",
    "            break\n",
    "    # the vibes are off (not enough energy)\n",
    "    if start_i is None:\n",
    "        return False\n",
    "    \n",
    "    for i in range(max_i, start_i, -1):\n",
    "        if energy[i] > threshold:\n",
    "            end_i = i\n",
    "            break    \n",
    "    # the vibes are off (not enough energy)\n",
    "    if end_i is None:\n",
    "        return False\n",
    "    \n",
    "    threshold = mean * 8.\n",
    "    return np.mean(energy[start_i:end_i]) > threshold\n",
    "\n",
    "iters = 1000\n",
    "true_acc, false_acc = 0.0, 0.0\n",
    "for i in range(iters):\n",
    "    true_acc += float(detect(fouriers[True][i]))\n",
    "    false_acc += 1.0 - float(detect(fouriers[False][i]))\n",
    "true_acc /= iters\n",
    "false_acc /= iters"
   ]
  },
  {
   "cell_type": "code",
   "execution_count": 10,
   "metadata": {},
   "outputs": [
    {
     "data": {
      "text/plain": [
       "(0.901, 0.951)"
      ]
     },
     "execution_count": 10,
     "metadata": {},
     "output_type": "execute_result"
    }
   ],
   "source": [
    "true_acc, false_acc"
   ]
  },
  {
   "cell_type": "code",
   "execution_count": 59,
   "metadata": {},
   "outputs": [
    {
     "data": {
      "text/plain": [
       "[1, 8, 30, 52, 65, 82, 89, 94, 118, 126]"
      ]
     },
     "execution_count": 59,
     "metadata": {},
     "output_type": "execute_result"
    }
   ],
   "source": [
    "\"\"\"\n",
    "Find example of false positive.\n",
    "\"\"\"\n",
    "\n",
    "false_positives = []\n",
    "iters = 1000\n",
    "for i in range(iters):\n",
    "    if detect(fouriers[False][i]):\n",
    "        false_positives.append(i)\n",
    "false_positives[:10]"
   ]
  },
  {
   "cell_type": "code",
   "execution_count": 60,
   "metadata": {},
   "outputs": [
    {
     "data": {
      "image/png": "[encoded data removed]",
      "text/plain": [
       "<Figure size 432x288 with 2 Axes>"
      ]
     },
     "metadata": {
      "needs_background": "light"
     },
     "output_type": "display_data"
    }
   ],
   "source": [
    "LAG = 256\n",
    "SAMPLE_RATE = 48000\n",
    "NYQUIST = SAMPLE_RATE / 2 + 1\n",
    "\n",
    "N_FREQS = 80\n",
    "\n",
    "#avg_whistle = (np.roll(fouriers[True][420], 10) + np.median(fouriers[False], axis=0)) * 0.5\n",
    "# avg_whistle = np.mean(fouriers[True], axis=0)\n",
    "# avg_non_whistle = np.mean(fouriers[False], axis=0)\n",
    "avg_whistle = fouriers[False][false_positives[0]]\n",
    "avg_non_whistle = fouriers[False][false_positives[1]]\n",
    "\n",
    "fig, (ax0, ax1) = plt.subplots(1, 2)\n",
    "img = np.array([avg_whistle[:N_FREQS]]).T\n",
    "ax0.imshow(img, cmap=\"viridis\", interpolation=\"none\", aspect=\"auto\", origin=\"lower\")\n",
    "\n",
    "yticks = np.arange(0, img.shape[0], 7)\n",
    "yticklabels = [f\"{i / avg_whistle.shape[0] * NYQUIST:.0f}Hz\" for i in yticks]\n",
    "ax0.set_yticks(yticks, yticklabels);\n",
    "\n",
    "img = np.array([avg_non_whistle[:N_FREQS]]).T\n",
    "ax1.imshow(img, cmap=\"viridis\", interpolation=\"none\", aspect=\"auto\", origin=\"lower\")\n",
    "ax1.set_yticks(yticks, yticklabels);"
   ]
  },
  {
   "cell_type": "code",
   "execution_count": 5,
   "metadata": {},
   "outputs": [
    {
     "data": {
      "text/plain": [
       "TwoLayerIntegrated(\n",
       "  (layer1): Linear(in_features=257, out_features=128, bias=True)\n",
       "  (layer2): Linear(in_features=128, out_features=1, bias=True)\n",
       ")"
      ]
     },
     "execution_count": 5,
     "metadata": {},
     "output_type": "execute_result"
    }
   ],
   "source": [
    "class TwoLayerIntegrated(nn.Module):\n",
    "    def __init__(self, input_dim):\n",
    "        super(TwoLayerIntegrated, self).__init__()\n",
    "        \n",
    "        self.layer1 = nn.Linear(input_dim, 128)\n",
    "        self.layer2 = nn.Linear(128, 1)\n",
    "    \n",
    "    def forward(self, x):\n",
    "        x = F.relu(self.layer1(x))\n",
    "        x = F.sigmoid(self.layer2(x))\n",
    "        \n",
    "        return x\n",
    "\n",
    "model = TwoLayerIntegrated(avg_whistle.shape[0])\n",
    "model.load_state_dict(torch.load(\"../models/whistle_detection.pth\"))\n",
    "model.eval()"
   ]
  },
  {
   "cell_type": "code",
   "execution_count": 13,
   "metadata": {},
   "outputs": [
    {
     "data": {
      "text/plain": [
       "tensor([0.3996], grad_fn=<SigmoidBackward0>)"
      ]
     },
     "execution_count": 13,
     "metadata": {},
     "output_type": "execute_result"
    }
   ],
   "source": [
    "#input = (np.mean(fouriers[True], axis=0) + np.mean(fouriers[False], axis=0)) * 0.5\n",
    "input = (np.roll(fouriers[True][420], 10))*0.2# + np.median(fouriers[False], axis=0)) * 0.5\n",
    "model(torch.tensor(input.astype(\"float32\")))"
   ]
  },
  {
   "cell_type": "code",
   "execution_count": null,
   "metadata": {},
   "outputs": [],
   "source": [
    "device = torch.device(\"cuda\" if torch.cuda.is_available() else \"cpu\")"
   ]
  }
 ],
 "metadata": {
  "kernelspec": {
   "display_name": "Python 3",
   "language": "python",
   "name": "python3"
  },
  "language_info": {
   "codemirror_mode": {
    "name": "ipython",
    "version": 3
   },
   "file_extension": ".py",
   "mimetype": "text/x-python",
   "name": "python",
   "nbconvert_exporter": "python",
   "pygments_lexer": "ipython3",
   "version": "3.10.undefined"
  }
 },
 "nbformat": 4,
 "nbformat_minor": 2
}
